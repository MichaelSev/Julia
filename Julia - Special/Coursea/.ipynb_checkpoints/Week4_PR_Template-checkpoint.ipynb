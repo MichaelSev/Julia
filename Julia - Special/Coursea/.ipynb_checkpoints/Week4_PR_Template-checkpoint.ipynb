{
 "cells": [
  {
   "cell_type": "markdown",
   "metadata": {},
   "source": [
    "# Week 4 - Working with data"
   ]
  },
  {
   "cell_type": "markdown",
   "metadata": {},
   "source": [
    "Week 4 Peer Review - Working with Distributions and DataFrames. To help you with this task, comments are added to each cell."
   ]
  },
  {
   "cell_type": "code",
   "execution_count": 6,
   "metadata": {},
   "outputs": [
    {
     "name": "stderr",
     "output_type": "stream",
     "text": [
      "┌ Info: Precompiling Distributions [31c24e10-a181-5473-b8eb-7969acd0382f]\n",
      "└ @ Base loading.jl:1260\n"
     ]
    }
   ],
   "source": [
    "# Import the required packages\n",
    "using Distributions, DataFrames, Random"
   ]
  },
  {
   "cell_type": "code",
   "execution_count": 5,
   "metadata": {},
   "outputs": [
    {
     "name": "stderr",
     "output_type": "stream",
     "text": [
      "\u001b[32m\u001b[1m  Resolving\u001b[22m\u001b[39m package versions...\n",
      "\u001b[32m\u001b[1m   Updating\u001b[22m\u001b[39m `C:\\Users\\Bruger\\.julia\\environments\\v1.4\\Project.toml`\n",
      "\u001b[90m [no changes]\u001b[39m\n",
      "\u001b[32m\u001b[1m   Updating\u001b[22m\u001b[39m `C:\\Users\\Bruger\\.julia\\environments\\v1.4\\Manifest.toml`\n",
      "\u001b[90m [no changes]\u001b[39m\n"
     ]
    }
   ],
   "source": [
    "\n",
    "import Pkg\n",
    "Pkg.add(\"Random\")"
   ]
  },
  {
   "cell_type": "code",
   "execution_count": 35,
   "metadata": {},
   "outputs": [],
   "source": [
    "# Seed the random number generator\n",
    "Random.seed!(1234);"
   ]
  },
  {
   "cell_type": "code",
   "execution_count": 24,
   "metadata": {},
   "outputs": [],
   "source": [
    "# Question 4: Create the 3 x 30 array named array_1\n",
    "array_1 = 1:30\n",
    "array_2 = rand(Distributions.Normal(0,1),30)\n",
    "array_3 = rand(Distributions.Normal(10,2),30)\n",
    "array_4 = rand(Distributions.Uniform(5, 15),30);\n",
    "\n",
    "\n",
    "df1 = DataFrame(ID = array_1, var1 = array_2, var2=array_3, var3=array_4);"
   ]
  },
  {
   "cell_type": "code",
   "execution_count": 17,
   "metadata": {},
   "outputs": [
    {
     "name": "stdout",
     "output_type": "stream",
     "text": [
      "This is the mean and variance of column 1\n",
      "The mean is: 15.5 and the variance is 77.5\n",
      "This is the mean and variance of column 2\n",
      "The mean is: 0.14611817273162728 and the variance is 0.7547979367471401\n",
      "This is the mean and variance of column 3\n",
      "The mean is: 9.909701126153372 and the variance is 2.4566405444014916\n",
      "This is the mean and variance of column 4\n",
      "The mean is: 9.950486607032298 and the variance is 8.886390271324062\n"
     ]
    }
   ],
   "source": [
    "# Question 5: Mean and variance of column 1\n",
    "nam\n",
    "for i in 1:4\n",
    "    println(\"This is the mean and variance of column $i\")\n",
    "    println(\"The mean is: $(mean(df1[:,i])) and the variance is $(var(df1[:,i]))\")\n",
    "\n",
    "end"
   ]
  },
  {
   "cell_type": "markdown",
   "metadata": {},
   "source": [
    "The reader should note that they are all around the exceptet mean at 15, 0, 10 and 10. (From the distribituions) "
   ]
  },
  {
   "cell_type": "code",
   "execution_count": 25,
   "metadata": {},
   "outputs": [
    {
     "data": {
      "text/html": [
       "<table class=\"data-frame\"><thead><tr><th></th><th>ID</th><th>var1</th><th>var2</th><th>var3</th></tr><tr><th></th><th>Int64</th><th>Float64</th><th>Float64</th><th>Float64</th></tr></thead><tbody><p>20 rows × 4 columns</p><tr><th>1</th><td>11</td><td>0.0577561</td><td>12.9519</td><td>8.49517</td></tr><tr><th>2</th><td>12</td><td>-0.815365</td><td>12.2383</td><td>6.93238</td></tr><tr><th>3</th><td>13</td><td>0.298573</td><td>11.0342</td><td>8.18641</td></tr><tr><th>4</th><td>14</td><td>-0.438694</td><td>5.95687</td><td>13.1139</td></tr><tr><th>5</th><td>15</td><td>0.879151</td><td>7.54833</td><td>6.84151</td></tr><tr><th>6</th><td>16</td><td>-1.41416</td><td>14.1337</td><td>5.71137</td></tr><tr><th>7</th><td>17</td><td>1.49614</td><td>8.27284</td><td>12.7237</td></tr><tr><th>8</th><td>18</td><td>0.34668</td><td>11.6963</td><td>10.7743</td></tr><tr><th>9</th><td>19</td><td>0.822259</td><td>9.10928</td><td>12.5919</td></tr><tr><th>10</th><td>20</td><td>-0.248673</td><td>10.8159</td><td>7.56758</td></tr><tr><th>11</th><td>21</td><td>0.407788</td><td>10.484</td><td>13.8116</td></tr><tr><th>12</th><td>22</td><td>0.213867</td><td>11.6819</td><td>6.22741</td></tr><tr><th>13</th><td>23</td><td>-0.0199768</td><td>8.6839</td><td>10.7514</td></tr><tr><th>14</th><td>24</td><td>-1.01318</td><td>11.1766</td><td>10.3851</td></tr><tr><th>15</th><td>25</td><td>0.879781</td><td>7.75135</td><td>8.41794</td></tr><tr><th>16</th><td>26</td><td>-0.627622</td><td>10.5345</td><td>9.77967</td></tr><tr><th>17</th><td>27</td><td>0.561011</td><td>13.5148</td><td>11.1739</td></tr><tr><th>18</th><td>28</td><td>1.41197</td><td>9.10225</td><td>10.8495</td></tr><tr><th>19</th><td>29</td><td>0.0822156</td><td>11.9605</td><td>12.278</td></tr><tr><th>20</th><td>30</td><td>1.42376</td><td>12.889</td><td>13.9947</td></tr></tbody></table>"
      ],
      "text/latex": [
       "\\begin{tabular}{r|cccc}\n",
       "\t& ID & var1 & var2 & var3\\\\\n",
       "\t\\hline\n",
       "\t& Int64 & Float64 & Float64 & Float64\\\\\n",
       "\t\\hline\n",
       "\t1 & 11 & 0.0577561 & 12.9519 & 8.49517 \\\\\n",
       "\t2 & 12 & -0.815365 & 12.2383 & 6.93238 \\\\\n",
       "\t3 & 13 & 0.298573 & 11.0342 & 8.18641 \\\\\n",
       "\t4 & 14 & -0.438694 & 5.95687 & 13.1139 \\\\\n",
       "\t5 & 15 & 0.879151 & 7.54833 & 6.84151 \\\\\n",
       "\t6 & 16 & -1.41416 & 14.1337 & 5.71137 \\\\\n",
       "\t7 & 17 & 1.49614 & 8.27284 & 12.7237 \\\\\n",
       "\t8 & 18 & 0.34668 & 11.6963 & 10.7743 \\\\\n",
       "\t9 & 19 & 0.822259 & 9.10928 & 12.5919 \\\\\n",
       "\t10 & 20 & -0.248673 & 10.8159 & 7.56758 \\\\\n",
       "\t11 & 21 & 0.407788 & 10.484 & 13.8116 \\\\\n",
       "\t12 & 22 & 0.213867 & 11.6819 & 6.22741 \\\\\n",
       "\t13 & 23 & -0.0199768 & 8.6839 & 10.7514 \\\\\n",
       "\t14 & 24 & -1.01318 & 11.1766 & 10.3851 \\\\\n",
       "\t15 & 25 & 0.879781 & 7.75135 & 8.41794 \\\\\n",
       "\t16 & 26 & -0.627622 & 10.5345 & 9.77967 \\\\\n",
       "\t17 & 27 & 0.561011 & 13.5148 & 11.1739 \\\\\n",
       "\t18 & 28 & 1.41197 & 9.10225 & 10.8495 \\\\\n",
       "\t19 & 29 & 0.0822156 & 11.9605 & 12.278 \\\\\n",
       "\t20 & 30 & 1.42376 & 12.889 & 13.9947 \\\\\n",
       "\\end{tabular}\n"
      ],
      "text/plain": [
       "20×4 DataFrame\n",
       "│ Row │ ID    │ var1       │ var2    │ var3    │\n",
       "│     │ \u001b[90mInt64\u001b[39m │ \u001b[90mFloat64\u001b[39m    │ \u001b[90mFloat64\u001b[39m │ \u001b[90mFloat64\u001b[39m │\n",
       "├─────┼───────┼────────────┼─────────┼─────────┤\n",
       "│ 1   │ 11    │ 0.0577561  │ 12.9519 │ 8.49517 │\n",
       "│ 2   │ 12    │ -0.815365  │ 12.2383 │ 6.93238 │\n",
       "│ 3   │ 13    │ 0.298573   │ 11.0342 │ 8.18641 │\n",
       "│ 4   │ 14    │ -0.438694  │ 5.95687 │ 13.1139 │\n",
       "│ 5   │ 15    │ 0.879151   │ 7.54833 │ 6.84151 │\n",
       "│ 6   │ 16    │ -1.41416   │ 14.1337 │ 5.71137 │\n",
       "│ 7   │ 17    │ 1.49614    │ 8.27284 │ 12.7237 │\n",
       "│ 8   │ 18    │ 0.34668    │ 11.6963 │ 10.7743 │\n",
       "│ 9   │ 19    │ 0.822259   │ 9.10928 │ 12.5919 │\n",
       "│ 10  │ 20    │ -0.248673  │ 10.8159 │ 7.56758 │\n",
       "│ 11  │ 21    │ 0.407788   │ 10.484  │ 13.8116 │\n",
       "│ 12  │ 22    │ 0.213867   │ 11.6819 │ 6.22741 │\n",
       "│ 13  │ 23    │ -0.0199768 │ 8.6839  │ 10.7514 │\n",
       "│ 14  │ 24    │ -1.01318   │ 11.1766 │ 10.3851 │\n",
       "│ 15  │ 25    │ 0.879781   │ 7.75135 │ 8.41794 │\n",
       "│ 16  │ 26    │ -0.627622  │ 10.5345 │ 9.77967 │\n",
       "│ 17  │ 27    │ 0.561011   │ 13.5148 │ 11.1739 │\n",
       "│ 18  │ 28    │ 1.41197    │ 9.10225 │ 10.8495 │\n",
       "│ 19  │ 29    │ 0.0822156  │ 11.9605 │ 12.278  │\n",
       "│ 20  │ 30    │ 1.42376    │ 12.889  │ 13.9947 │"
      ]
     },
     "execution_count": 25,
     "metadata": {},
     "output_type": "execute_result"
    }
   ],
   "source": [
    "# Question 5: New dataframe df2\n",
    "df2 = df1[11:end,:]\n"
   ]
  },
  {
   "cell_type": "code",
   "execution_count": 26,
   "metadata": {},
   "outputs": [
    {
     "data": {
      "text/html": [
       "<table class=\"data-frame\"><thead><tr><th></th><th>variable</th><th>mean</th><th>min</th><th>median</th><th>max</th><th>nunique</th><th>nmissing</th><th>eltype</th></tr><tr><th></th><th>Symbol</th><th>Float64</th><th>Real</th><th>Float64</th><th>Real</th><th>Nothing</th><th>Nothing</th><th>DataType</th></tr></thead><tbody><p>4 rows × 8 columns</p><tr><th>1</th><td>ID</td><td>20.5</td><td>11</td><td>20.5</td><td>30</td><td></td><td></td><td>Int64</td></tr><tr><th>2</th><td>var1</td><td>0.215164</td><td>-1.41416</td><td>0.25622</td><td>1.49614</td><td></td><td></td><td>Float64</td></tr><tr><th>3</th><td>var2</td><td>10.5768</td><td>5.95687</td><td>10.925</td><td>14.1337</td><td></td><td></td><td>Float64</td></tr><tr><th>4</th><td>var3</td><td>10.0304</td><td>5.71137</td><td>10.5683</td><td>13.9947</td><td></td><td></td><td>Float64</td></tr></tbody></table>"
      ],
      "text/latex": [
       "\\begin{tabular}{r|cccccccc}\n",
       "\t& variable & mean & min & median & max & nunique & nmissing & eltype\\\\\n",
       "\t\\hline\n",
       "\t& Symbol & Float64 & Real & Float64 & Real & Nothing & Nothing & DataType\\\\\n",
       "\t\\hline\n",
       "\t1 & ID & 20.5 & 11 & 20.5 & 30 &  &  & Int64 \\\\\n",
       "\t2 & var1 & 0.215164 & -1.41416 & 0.25622 & 1.49614 &  &  & Float64 \\\\\n",
       "\t3 & var2 & 10.5768 & 5.95687 & 10.925 & 14.1337 &  &  & Float64 \\\\\n",
       "\t4 & var3 & 10.0304 & 5.71137 & 10.5683 & 13.9947 &  &  & Float64 \\\\\n",
       "\\end{tabular}\n"
      ],
      "text/plain": [
       "4×8 DataFrame. Omitted printing of 2 columns\n",
       "│ Row │ variable │ mean     │ min      │ median  │ max     │ nunique │\n",
       "│     │ \u001b[90mSymbol\u001b[39m   │ \u001b[90mFloat64\u001b[39m  │ \u001b[90mReal\u001b[39m     │ \u001b[90mFloat64\u001b[39m │ \u001b[90mReal\u001b[39m    │ \u001b[90mNothing\u001b[39m │\n",
       "├─────┼──────────┼──────────┼──────────┼─────────┼─────────┼─────────┤\n",
       "│ 1   │ ID       │ 20.5     │ 11       │ 20.5    │ 30      │         │\n",
       "│ 2   │ var1     │ 0.215164 │ -1.41416 │ 0.25622 │ 1.49614 │         │\n",
       "│ 3   │ var2     │ 10.5768  │ 5.95687  │ 10.925  │ 14.1337 │         │\n",
       "│ 4   │ var3     │ 10.0304  │ 5.71137  │ 10.5683 │ 13.9947 │         │"
      ]
     },
     "execution_count": 26,
     "metadata": {},
     "output_type": "execute_result"
    }
   ],
   "source": [
    "# Question 6: Import array_1 into a DataFrame named df\n",
    "describe(df2)\n"
   ]
  },
  {
   "cell_type": "code",
   "execution_count": 29,
   "metadata": {},
   "outputs": [
    {
     "data": {
      "text/html": [
       "<table class=\"data-frame\"><thead><tr><th></th><th>ID</th><th>var1</th><th>var2</th><th>var3</th><th>cat1</th></tr><tr><th></th><th>Int64</th><th>Float64</th><th>Float64</th><th>Float64</th><th>String</th></tr></thead><tbody><p>20 rows × 5 columns</p><tr><th>1</th><td>11</td><td>0.0577561</td><td>12.9519</td><td>8.49517</td><td>GroupA</td></tr><tr><th>2</th><td>12</td><td>-0.815365</td><td>12.2383</td><td>6.93238</td><td>GroupB</td></tr><tr><th>3</th><td>13</td><td>0.298573</td><td>11.0342</td><td>8.18641</td><td>GroupB</td></tr><tr><th>4</th><td>14</td><td>-0.438694</td><td>5.95687</td><td>13.1139</td><td>GroupA</td></tr><tr><th>5</th><td>15</td><td>0.879151</td><td>7.54833</td><td>6.84151</td><td>GroupB</td></tr><tr><th>6</th><td>16</td><td>-1.41416</td><td>14.1337</td><td>5.71137</td><td>GroupB</td></tr><tr><th>7</th><td>17</td><td>1.49614</td><td>8.27284</td><td>12.7237</td><td>GroupB</td></tr><tr><th>8</th><td>18</td><td>0.34668</td><td>11.6963</td><td>10.7743</td><td>GroupA</td></tr><tr><th>9</th><td>19</td><td>0.822259</td><td>9.10928</td><td>12.5919</td><td>GroupA</td></tr><tr><th>10</th><td>20</td><td>-0.248673</td><td>10.8159</td><td>7.56758</td><td>GroupB</td></tr><tr><th>11</th><td>21</td><td>0.407788</td><td>10.484</td><td>13.8116</td><td>GroupA</td></tr><tr><th>12</th><td>22</td><td>0.213867</td><td>11.6819</td><td>6.22741</td><td>GroupB</td></tr><tr><th>13</th><td>23</td><td>-0.0199768</td><td>8.6839</td><td>10.7514</td><td>GroupB</td></tr><tr><th>14</th><td>24</td><td>-1.01318</td><td>11.1766</td><td>10.3851</td><td>GroupA</td></tr><tr><th>15</th><td>25</td><td>0.879781</td><td>7.75135</td><td>8.41794</td><td>GroupB</td></tr><tr><th>16</th><td>26</td><td>-0.627622</td><td>10.5345</td><td>9.77967</td><td>GroupB</td></tr><tr><th>17</th><td>27</td><td>0.561011</td><td>13.5148</td><td>11.1739</td><td>GroupB</td></tr><tr><th>18</th><td>28</td><td>1.41197</td><td>9.10225</td><td>10.8495</td><td>GroupB</td></tr><tr><th>19</th><td>29</td><td>0.0822156</td><td>11.9605</td><td>12.278</td><td>GroupA</td></tr><tr><th>20</th><td>30</td><td>1.42376</td><td>12.889</td><td>13.9947</td><td>GroupA</td></tr></tbody></table>"
      ],
      "text/latex": [
       "\\begin{tabular}{r|ccccc}\n",
       "\t& ID & var1 & var2 & var3 & cat1\\\\\n",
       "\t\\hline\n",
       "\t& Int64 & Float64 & Float64 & Float64 & String\\\\\n",
       "\t\\hline\n",
       "\t1 & 11 & 0.0577561 & 12.9519 & 8.49517 & GroupA \\\\\n",
       "\t2 & 12 & -0.815365 & 12.2383 & 6.93238 & GroupB \\\\\n",
       "\t3 & 13 & 0.298573 & 11.0342 & 8.18641 & GroupB \\\\\n",
       "\t4 & 14 & -0.438694 & 5.95687 & 13.1139 & GroupA \\\\\n",
       "\t5 & 15 & 0.879151 & 7.54833 & 6.84151 & GroupB \\\\\n",
       "\t6 & 16 & -1.41416 & 14.1337 & 5.71137 & GroupB \\\\\n",
       "\t7 & 17 & 1.49614 & 8.27284 & 12.7237 & GroupB \\\\\n",
       "\t8 & 18 & 0.34668 & 11.6963 & 10.7743 & GroupA \\\\\n",
       "\t9 & 19 & 0.822259 & 9.10928 & 12.5919 & GroupA \\\\\n",
       "\t10 & 20 & -0.248673 & 10.8159 & 7.56758 & GroupB \\\\\n",
       "\t11 & 21 & 0.407788 & 10.484 & 13.8116 & GroupA \\\\\n",
       "\t12 & 22 & 0.213867 & 11.6819 & 6.22741 & GroupB \\\\\n",
       "\t13 & 23 & -0.0199768 & 8.6839 & 10.7514 & GroupB \\\\\n",
       "\t14 & 24 & -1.01318 & 11.1766 & 10.3851 & GroupA \\\\\n",
       "\t15 & 25 & 0.879781 & 7.75135 & 8.41794 & GroupB \\\\\n",
       "\t16 & 26 & -0.627622 & 10.5345 & 9.77967 & GroupB \\\\\n",
       "\t17 & 27 & 0.561011 & 13.5148 & 11.1739 & GroupB \\\\\n",
       "\t18 & 28 & 1.41197 & 9.10225 & 10.8495 & GroupB \\\\\n",
       "\t19 & 29 & 0.0822156 & 11.9605 & 12.278 & GroupA \\\\\n",
       "\t20 & 30 & 1.42376 & 12.889 & 13.9947 & GroupA \\\\\n",
       "\\end{tabular}\n"
      ],
      "text/plain": [
       "20×5 DataFrame\n",
       "│ Row │ ID    │ var1       │ var2    │ var3    │ cat1   │\n",
       "│     │ \u001b[90mInt64\u001b[39m │ \u001b[90mFloat64\u001b[39m    │ \u001b[90mFloat64\u001b[39m │ \u001b[90mFloat64\u001b[39m │ \u001b[90mString\u001b[39m │\n",
       "├─────┼───────┼────────────┼─────────┼─────────┼────────┤\n",
       "│ 1   │ 11    │ 0.0577561  │ 12.9519 │ 8.49517 │ GroupA │\n",
       "│ 2   │ 12    │ -0.815365  │ 12.2383 │ 6.93238 │ GroupB │\n",
       "│ 3   │ 13    │ 0.298573   │ 11.0342 │ 8.18641 │ GroupB │\n",
       "│ 4   │ 14    │ -0.438694  │ 5.95687 │ 13.1139 │ GroupA │\n",
       "│ 5   │ 15    │ 0.879151   │ 7.54833 │ 6.84151 │ GroupB │\n",
       "│ 6   │ 16    │ -1.41416   │ 14.1337 │ 5.71137 │ GroupB │\n",
       "│ 7   │ 17    │ 1.49614    │ 8.27284 │ 12.7237 │ GroupB │\n",
       "│ 8   │ 18    │ 0.34668    │ 11.6963 │ 10.7743 │ GroupA │\n",
       "│ 9   │ 19    │ 0.822259   │ 9.10928 │ 12.5919 │ GroupA │\n",
       "│ 10  │ 20    │ -0.248673  │ 10.8159 │ 7.56758 │ GroupB │\n",
       "│ 11  │ 21    │ 0.407788   │ 10.484  │ 13.8116 │ GroupA │\n",
       "│ 12  │ 22    │ 0.213867   │ 11.6819 │ 6.22741 │ GroupB │\n",
       "│ 13  │ 23    │ -0.0199768 │ 8.6839  │ 10.7514 │ GroupB │\n",
       "│ 14  │ 24    │ -1.01318   │ 11.1766 │ 10.3851 │ GroupA │\n",
       "│ 15  │ 25    │ 0.879781   │ 7.75135 │ 8.41794 │ GroupB │\n",
       "│ 16  │ 26    │ -0.627622  │ 10.5345 │ 9.77967 │ GroupB │\n",
       "│ 17  │ 27    │ 0.561011   │ 13.5148 │ 11.1739 │ GroupB │\n",
       "│ 18  │ 28    │ 1.41197    │ 9.10225 │ 10.8495 │ GroupB │\n",
       "│ 19  │ 29    │ 0.0822156  │ 11.9605 │ 12.278  │ GroupA │\n",
       "│ 20  │ 30    │ 1.42376    │ 12.889  │ 13.9947 │ GroupA │"
      ]
     },
     "execution_count": 29,
     "metadata": {},
     "output_type": "execute_result"
    }
   ],
   "source": [
    "# Question 7: Change the names of the columns to Var1, Var2, and Var3\n",
    "cat1 = rand([\"GroupA\",\"GroupB\"],20);\n",
    "\n",
    "df2.cat1=cat1\n",
    "\n",
    "\n",
    "\n"
   ]
  },
  {
   "cell_type": "code",
   "execution_count": 31,
   "metadata": {},
   "outputs": [
    {
     "data": {
      "text/html": [
       "<table class=\"data-frame\"><thead><tr><th></th><th>ID</th><th>var4</th><th>var5</th></tr><tr><th></th><th>Int64</th><th>Int64</th><th>Int64</th></tr></thead><tbody><p>20 rows × 3 columns</p><tr><th>1</th><td>11</td><td>21</td><td>41</td></tr><tr><th>2</th><td>12</td><td>22</td><td>42</td></tr><tr><th>3</th><td>13</td><td>23</td><td>43</td></tr><tr><th>4</th><td>14</td><td>24</td><td>44</td></tr><tr><th>5</th><td>15</td><td>25</td><td>45</td></tr><tr><th>6</th><td>16</td><td>26</td><td>46</td></tr><tr><th>7</th><td>17</td><td>27</td><td>47</td></tr><tr><th>8</th><td>18</td><td>28</td><td>48</td></tr><tr><th>9</th><td>19</td><td>29</td><td>49</td></tr><tr><th>10</th><td>20</td><td>30</td><td>50</td></tr><tr><th>11</th><td>21</td><td>31</td><td>51</td></tr><tr><th>12</th><td>22</td><td>32</td><td>52</td></tr><tr><th>13</th><td>23</td><td>33</td><td>53</td></tr><tr><th>14</th><td>24</td><td>34</td><td>54</td></tr><tr><th>15</th><td>25</td><td>35</td><td>55</td></tr><tr><th>16</th><td>26</td><td>36</td><td>56</td></tr><tr><th>17</th><td>27</td><td>37</td><td>57</td></tr><tr><th>18</th><td>28</td><td>38</td><td>58</td></tr><tr><th>19</th><td>29</td><td>39</td><td>59</td></tr><tr><th>20</th><td>30</td><td>40</td><td>60</td></tr></tbody></table>"
      ],
      "text/latex": [
       "\\begin{tabular}{r|ccc}\n",
       "\t& ID & var4 & var5\\\\\n",
       "\t\\hline\n",
       "\t& Int64 & Int64 & Int64\\\\\n",
       "\t\\hline\n",
       "\t1 & 11 & 21 & 41 \\\\\n",
       "\t2 & 12 & 22 & 42 \\\\\n",
       "\t3 & 13 & 23 & 43 \\\\\n",
       "\t4 & 14 & 24 & 44 \\\\\n",
       "\t5 & 15 & 25 & 45 \\\\\n",
       "\t6 & 16 & 26 & 46 \\\\\n",
       "\t7 & 17 & 27 & 47 \\\\\n",
       "\t8 & 18 & 28 & 48 \\\\\n",
       "\t9 & 19 & 29 & 49 \\\\\n",
       "\t10 & 20 & 30 & 50 \\\\\n",
       "\t11 & 21 & 31 & 51 \\\\\n",
       "\t12 & 22 & 32 & 52 \\\\\n",
       "\t13 & 23 & 33 & 53 \\\\\n",
       "\t14 & 24 & 34 & 54 \\\\\n",
       "\t15 & 25 & 35 & 55 \\\\\n",
       "\t16 & 26 & 36 & 56 \\\\\n",
       "\t17 & 27 & 37 & 57 \\\\\n",
       "\t18 & 28 & 38 & 58 \\\\\n",
       "\t19 & 29 & 39 & 59 \\\\\n",
       "\t20 & 30 & 40 & 60 \\\\\n",
       "\\end{tabular}\n"
      ],
      "text/plain": [
       "20×3 DataFrame\n",
       "│ Row │ ID    │ var4  │ var5  │\n",
       "│     │ \u001b[90mInt64\u001b[39m │ \u001b[90mInt64\u001b[39m │ \u001b[90mInt64\u001b[39m │\n",
       "├─────┼───────┼───────┼───────┤\n",
       "│ 1   │ 11    │ 21    │ 41    │\n",
       "│ 2   │ 12    │ 22    │ 42    │\n",
       "│ 3   │ 13    │ 23    │ 43    │\n",
       "│ 4   │ 14    │ 24    │ 44    │\n",
       "│ 5   │ 15    │ 25    │ 45    │\n",
       "│ 6   │ 16    │ 26    │ 46    │\n",
       "│ 7   │ 17    │ 27    │ 47    │\n",
       "│ 8   │ 18    │ 28    │ 48    │\n",
       "│ 9   │ 19    │ 29    │ 49    │\n",
       "│ 10  │ 20    │ 30    │ 50    │\n",
       "│ 11  │ 21    │ 31    │ 51    │\n",
       "│ 12  │ 22    │ 32    │ 52    │\n",
       "│ 13  │ 23    │ 33    │ 53    │\n",
       "│ 14  │ 24    │ 34    │ 54    │\n",
       "│ 15  │ 25    │ 35    │ 55    │\n",
       "│ 16  │ 26    │ 36    │ 56    │\n",
       "│ 17  │ 27    │ 37    │ 57    │\n",
       "│ 18  │ 28    │ 38    │ 58    │\n",
       "│ 19  │ 29    │ 39    │ 59    │\n",
       "│ 20  │ 30    │ 40    │ 60    │"
      ]
     },
     "execution_count": 31,
     "metadata": {},
     "output_type": "execute_result"
    }
   ],
   "source": [
    "# Question 8: Create df3, with id, var4 and var5\n",
    "df3= DataFrame(ID = 11:30, var4=21:40, var5=41:60)\n"
   ]
  },
  {
   "cell_type": "code",
   "execution_count": 32,
   "metadata": {},
   "outputs": [
    {
     "data": {
      "text/html": [
       "<table class=\"data-frame\"><thead><tr><th></th><th>ID</th><th>var1</th><th>var2</th><th>var3</th><th>cat1</th><th>var4</th><th>var5</th></tr><tr><th></th><th>Int64</th><th>Float64</th><th>Float64</th><th>Float64</th><th>String</th><th>Int64</th><th>Int64</th></tr></thead><tbody><p>20 rows × 7 columns</p><tr><th>1</th><td>11</td><td>0.0577561</td><td>12.9519</td><td>8.49517</td><td>GroupA</td><td>21</td><td>41</td></tr><tr><th>2</th><td>12</td><td>-0.815365</td><td>12.2383</td><td>6.93238</td><td>GroupB</td><td>22</td><td>42</td></tr><tr><th>3</th><td>13</td><td>0.298573</td><td>11.0342</td><td>8.18641</td><td>GroupB</td><td>23</td><td>43</td></tr><tr><th>4</th><td>14</td><td>-0.438694</td><td>5.95687</td><td>13.1139</td><td>GroupA</td><td>24</td><td>44</td></tr><tr><th>5</th><td>15</td><td>0.879151</td><td>7.54833</td><td>6.84151</td><td>GroupB</td><td>25</td><td>45</td></tr><tr><th>6</th><td>16</td><td>-1.41416</td><td>14.1337</td><td>5.71137</td><td>GroupB</td><td>26</td><td>46</td></tr><tr><th>7</th><td>17</td><td>1.49614</td><td>8.27284</td><td>12.7237</td><td>GroupB</td><td>27</td><td>47</td></tr><tr><th>8</th><td>18</td><td>0.34668</td><td>11.6963</td><td>10.7743</td><td>GroupA</td><td>28</td><td>48</td></tr><tr><th>9</th><td>19</td><td>0.822259</td><td>9.10928</td><td>12.5919</td><td>GroupA</td><td>29</td><td>49</td></tr><tr><th>10</th><td>20</td><td>-0.248673</td><td>10.8159</td><td>7.56758</td><td>GroupB</td><td>30</td><td>50</td></tr><tr><th>11</th><td>21</td><td>0.407788</td><td>10.484</td><td>13.8116</td><td>GroupA</td><td>31</td><td>51</td></tr><tr><th>12</th><td>22</td><td>0.213867</td><td>11.6819</td><td>6.22741</td><td>GroupB</td><td>32</td><td>52</td></tr><tr><th>13</th><td>23</td><td>-0.0199768</td><td>8.6839</td><td>10.7514</td><td>GroupB</td><td>33</td><td>53</td></tr><tr><th>14</th><td>24</td><td>-1.01318</td><td>11.1766</td><td>10.3851</td><td>GroupA</td><td>34</td><td>54</td></tr><tr><th>15</th><td>25</td><td>0.879781</td><td>7.75135</td><td>8.41794</td><td>GroupB</td><td>35</td><td>55</td></tr><tr><th>16</th><td>26</td><td>-0.627622</td><td>10.5345</td><td>9.77967</td><td>GroupB</td><td>36</td><td>56</td></tr><tr><th>17</th><td>27</td><td>0.561011</td><td>13.5148</td><td>11.1739</td><td>GroupB</td><td>37</td><td>57</td></tr><tr><th>18</th><td>28</td><td>1.41197</td><td>9.10225</td><td>10.8495</td><td>GroupB</td><td>38</td><td>58</td></tr><tr><th>19</th><td>29</td><td>0.0822156</td><td>11.9605</td><td>12.278</td><td>GroupA</td><td>39</td><td>59</td></tr><tr><th>20</th><td>30</td><td>1.42376</td><td>12.889</td><td>13.9947</td><td>GroupA</td><td>40</td><td>60</td></tr></tbody></table>"
      ],
      "text/latex": [
       "\\begin{tabular}{r|ccccccc}\n",
       "\t& ID & var1 & var2 & var3 & cat1 & var4 & var5\\\\\n",
       "\t\\hline\n",
       "\t& Int64 & Float64 & Float64 & Float64 & String & Int64 & Int64\\\\\n",
       "\t\\hline\n",
       "\t1 & 11 & 0.0577561 & 12.9519 & 8.49517 & GroupA & 21 & 41 \\\\\n",
       "\t2 & 12 & -0.815365 & 12.2383 & 6.93238 & GroupB & 22 & 42 \\\\\n",
       "\t3 & 13 & 0.298573 & 11.0342 & 8.18641 & GroupB & 23 & 43 \\\\\n",
       "\t4 & 14 & -0.438694 & 5.95687 & 13.1139 & GroupA & 24 & 44 \\\\\n",
       "\t5 & 15 & 0.879151 & 7.54833 & 6.84151 & GroupB & 25 & 45 \\\\\n",
       "\t6 & 16 & -1.41416 & 14.1337 & 5.71137 & GroupB & 26 & 46 \\\\\n",
       "\t7 & 17 & 1.49614 & 8.27284 & 12.7237 & GroupB & 27 & 47 \\\\\n",
       "\t8 & 18 & 0.34668 & 11.6963 & 10.7743 & GroupA & 28 & 48 \\\\\n",
       "\t9 & 19 & 0.822259 & 9.10928 & 12.5919 & GroupA & 29 & 49 \\\\\n",
       "\t10 & 20 & -0.248673 & 10.8159 & 7.56758 & GroupB & 30 & 50 \\\\\n",
       "\t11 & 21 & 0.407788 & 10.484 & 13.8116 & GroupA & 31 & 51 \\\\\n",
       "\t12 & 22 & 0.213867 & 11.6819 & 6.22741 & GroupB & 32 & 52 \\\\\n",
       "\t13 & 23 & -0.0199768 & 8.6839 & 10.7514 & GroupB & 33 & 53 \\\\\n",
       "\t14 & 24 & -1.01318 & 11.1766 & 10.3851 & GroupA & 34 & 54 \\\\\n",
       "\t15 & 25 & 0.879781 & 7.75135 & 8.41794 & GroupB & 35 & 55 \\\\\n",
       "\t16 & 26 & -0.627622 & 10.5345 & 9.77967 & GroupB & 36 & 56 \\\\\n",
       "\t17 & 27 & 0.561011 & 13.5148 & 11.1739 & GroupB & 37 & 57 \\\\\n",
       "\t18 & 28 & 1.41197 & 9.10225 & 10.8495 & GroupB & 38 & 58 \\\\\n",
       "\t19 & 29 & 0.0822156 & 11.9605 & 12.278 & GroupA & 39 & 59 \\\\\n",
       "\t20 & 30 & 1.42376 & 12.889 & 13.9947 & GroupA & 40 & 60 \\\\\n",
       "\\end{tabular}\n"
      ],
      "text/plain": [
       "20×7 DataFrame\n",
       "│ Row │ ID    │ var1       │ var2    │ var3    │ cat1   │ var4  │ var5  │\n",
       "│     │ \u001b[90mInt64\u001b[39m │ \u001b[90mFloat64\u001b[39m    │ \u001b[90mFloat64\u001b[39m │ \u001b[90mFloat64\u001b[39m │ \u001b[90mString\u001b[39m │ \u001b[90mInt64\u001b[39m │ \u001b[90mInt64\u001b[39m │\n",
       "├─────┼───────┼────────────┼─────────┼─────────┼────────┼───────┼───────┤\n",
       "│ 1   │ 11    │ 0.0577561  │ 12.9519 │ 8.49517 │ GroupA │ 21    │ 41    │\n",
       "│ 2   │ 12    │ -0.815365  │ 12.2383 │ 6.93238 │ GroupB │ 22    │ 42    │\n",
       "│ 3   │ 13    │ 0.298573   │ 11.0342 │ 8.18641 │ GroupB │ 23    │ 43    │\n",
       "│ 4   │ 14    │ -0.438694  │ 5.95687 │ 13.1139 │ GroupA │ 24    │ 44    │\n",
       "│ 5   │ 15    │ 0.879151   │ 7.54833 │ 6.84151 │ GroupB │ 25    │ 45    │\n",
       "│ 6   │ 16    │ -1.41416   │ 14.1337 │ 5.71137 │ GroupB │ 26    │ 46    │\n",
       "│ 7   │ 17    │ 1.49614    │ 8.27284 │ 12.7237 │ GroupB │ 27    │ 47    │\n",
       "│ 8   │ 18    │ 0.34668    │ 11.6963 │ 10.7743 │ GroupA │ 28    │ 48    │\n",
       "│ 9   │ 19    │ 0.822259   │ 9.10928 │ 12.5919 │ GroupA │ 29    │ 49    │\n",
       "│ 10  │ 20    │ -0.248673  │ 10.8159 │ 7.56758 │ GroupB │ 30    │ 50    │\n",
       "│ 11  │ 21    │ 0.407788   │ 10.484  │ 13.8116 │ GroupA │ 31    │ 51    │\n",
       "│ 12  │ 22    │ 0.213867   │ 11.6819 │ 6.22741 │ GroupB │ 32    │ 52    │\n",
       "│ 13  │ 23    │ -0.0199768 │ 8.6839  │ 10.7514 │ GroupB │ 33    │ 53    │\n",
       "│ 14  │ 24    │ -1.01318   │ 11.1766 │ 10.3851 │ GroupA │ 34    │ 54    │\n",
       "│ 15  │ 25    │ 0.879781   │ 7.75135 │ 8.41794 │ GroupB │ 35    │ 55    │\n",
       "│ 16  │ 26    │ -0.627622  │ 10.5345 │ 9.77967 │ GroupB │ 36    │ 56    │\n",
       "│ 17  │ 27    │ 0.561011   │ 13.5148 │ 11.1739 │ GroupB │ 37    │ 57    │\n",
       "│ 18  │ 28    │ 1.41197    │ 9.10225 │ 10.8495 │ GroupB │ 38    │ 58    │\n",
       "│ 19  │ 29    │ 0.0822156  │ 11.9605 │ 12.278  │ GroupA │ 39    │ 59    │\n",
       "│ 20  │ 30    │ 1.42376    │ 12.889  │ 13.9947 │ GroupA │ 40    │ 60    │"
      ]
     },
     "execution_count": 32,
     "metadata": {},
     "output_type": "execute_result"
    }
   ],
   "source": [
    "# Question 10: Join two df\n",
    "df4 = innerjoin(df2, df3, on = :ID)"
   ]
  }
 ],
 "metadata": {
  "kernelspec": {
   "display_name": "Julia 1.4.2",
   "language": "julia",
   "name": "julia-1.4"
  },
  "language_info": {
   "file_extension": ".jl",
   "mimetype": "application/julia",
   "name": "julia",
   "version": "1.4.2"
  }
 },
 "nbformat": 4,
 "nbformat_minor": 1
}
