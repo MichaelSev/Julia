{
 "cells": [
  {
   "cell_type": "code",
   "execution_count": 15,
   "metadata": {},
   "outputs": [
    {
     "data": {
      "text/plain": [
       "1×10 Array{Float64,2}:\n",
       " 0.732758  0.101398  0.664495  0.954362  …  0.977398  0.0207348  0.0165159"
      ]
     },
     "execution_count": 15,
     "metadata": {},
     "output_type": "execute_result"
    }
   ],
   "source": [
    "a = rand(1,10)"
   ]
  },
  {
   "cell_type": "code",
   "execution_count": 23,
   "metadata": {},
   "outputs": [
    {
     "name": "stderr",
     "output_type": "stream",
     "text": [
      "\u001b[32m\u001b[1m  Resolving\u001b[22m\u001b[39m package versions...\n",
      "\u001b[32m\u001b[1m  Installed\u001b[22m\u001b[39m PooledArrays ────── v0.5.3\n",
      "\u001b[32m\u001b[1m  Installed\u001b[22m\u001b[39m InvertedIndices ─── v1.0.0\n",
      "\u001b[32m\u001b[1m  Installed\u001b[22m\u001b[39m CategoricalArrays ─ v0.8.1\n",
      "\u001b[32m\u001b[1m  Installed\u001b[22m\u001b[39m DataFrames ──────── v0.21.5\n",
      "\u001b[32m\u001b[1m   Updating\u001b[22m\u001b[39m `C:\\Users\\Bruger\\.julia\\environments\\v1.4\\Project.toml`\n",
      " \u001b[90m [a93c6f00]\u001b[39m\u001b[92m + DataFrames v0.21.5\u001b[39m\n",
      "\u001b[32m\u001b[1m   Updating\u001b[22m\u001b[39m `C:\\Users\\Bruger\\.julia\\environments\\v1.4\\Manifest.toml`\n",
      " \u001b[90m [324d7699]\u001b[39m\u001b[92m + CategoricalArrays v0.8.1\u001b[39m\n",
      " \u001b[90m [a93c6f00]\u001b[39m\u001b[92m + DataFrames v0.21.5\u001b[39m\n",
      " \u001b[90m [41ab1584]\u001b[39m\u001b[92m + InvertedIndices v1.0.0\u001b[39m\n",
      " \u001b[90m [2dfb63ee]\u001b[39m\u001b[92m + PooledArrays v0.5.3\u001b[39m\n",
      " \u001b[90m [9fa8497b]\u001b[39m\u001b[92m + Future \u001b[39m\n"
     ]
    }
   ],
   "source": [
    "import Pkg\n",
    "Pkg.add(\"DataFrames\")"
   ]
  },
  {
   "cell_type": "code",
   "execution_count": 24,
   "metadata": {},
   "outputs": [
    {
     "name": "stderr",
     "output_type": "stream",
     "text": [
      "┌ Info: Precompiling DataFrames [a93c6f00-e57d-5684-b7b6-d8193f3e46c0]\n",
      "└ @ Base loading.jl:1260\n"
     ]
    },
    {
     "data": {
      "text/html": [
       "<table class=\"data-frame\"><thead><tr><th></th><th>Group</th><th>Variable1</th><th>Variable2</th></tr><tr><th></th><th>String</th><th>Float64</th><th>Float64</th></tr></thead><tbody><p>20 rows × 3 columns</p><tr><th>1</th><td>B</td><td>0.611511</td><td>0.800083</td></tr><tr><th>2</th><td>B</td><td>-1.07624</td><td>0.0963363</td></tr><tr><th>3</th><td>A</td><td>0.724852</td><td>0.960267</td></tr><tr><th>4</th><td>B</td><td>0.37785</td><td>0.655518</td></tr><tr><th>5</th><td>A</td><td>0.689175</td><td>0.509905</td></tr><tr><th>6</th><td>B</td><td>0.294791</td><td>0.893792</td></tr><tr><th>7</th><td>B</td><td>0.0227738</td><td>0.30634</td></tr><tr><th>8</th><td>B</td><td>0.426896</td><td>0.0818637</td></tr><tr><th>9</th><td>B</td><td>0.136035</td><td>0.796355</td></tr><tr><th>10</th><td>B</td><td>-1.16534</td><td>0.461063</td></tr><tr><th>11</th><td>B</td><td>0.618241</td><td>0.701288</td></tr><tr><th>12</th><td>A</td><td>-0.630384</td><td>0.412615</td></tr><tr><th>13</th><td>A</td><td>0.989946</td><td>0.139644</td></tr><tr><th>14</th><td>A</td><td>1.15133</td><td>0.152369</td></tr><tr><th>15</th><td>A</td><td>-0.873893</td><td>0.790861</td></tr><tr><th>16</th><td>B</td><td>0.877034</td><td>0.654126</td></tr><tr><th>17</th><td>B</td><td>-1.47455</td><td>0.897281</td></tr><tr><th>18</th><td>B</td><td>-0.266432</td><td>0.818152</td></tr><tr><th>19</th><td>A</td><td>0.653487</td><td>0.264312</td></tr><tr><th>20</th><td>A</td><td>0.0378535</td><td>0.25986</td></tr></tbody></table>"
      ],
      "text/latex": [
       "\\begin{tabular}{r|ccc}\n",
       "\t& Group & Variable1 & Variable2\\\\\n",
       "\t\\hline\n",
       "\t& String & Float64 & Float64\\\\\n",
       "\t\\hline\n",
       "\t1 & B & 0.611511 & 0.800083 \\\\\n",
       "\t2 & B & -1.07624 & 0.0963363 \\\\\n",
       "\t3 & A & 0.724852 & 0.960267 \\\\\n",
       "\t4 & B & 0.37785 & 0.655518 \\\\\n",
       "\t5 & A & 0.689175 & 0.509905 \\\\\n",
       "\t6 & B & 0.294791 & 0.893792 \\\\\n",
       "\t7 & B & 0.0227738 & 0.30634 \\\\\n",
       "\t8 & B & 0.426896 & 0.0818637 \\\\\n",
       "\t9 & B & 0.136035 & 0.796355 \\\\\n",
       "\t10 & B & -1.16534 & 0.461063 \\\\\n",
       "\t11 & B & 0.618241 & 0.701288 \\\\\n",
       "\t12 & A & -0.630384 & 0.412615 \\\\\n",
       "\t13 & A & 0.989946 & 0.139644 \\\\\n",
       "\t14 & A & 1.15133 & 0.152369 \\\\\n",
       "\t15 & A & -0.873893 & 0.790861 \\\\\n",
       "\t16 & B & 0.877034 & 0.654126 \\\\\n",
       "\t17 & B & -1.47455 & 0.897281 \\\\\n",
       "\t18 & B & -0.266432 & 0.818152 \\\\\n",
       "\t19 & A & 0.653487 & 0.264312 \\\\\n",
       "\t20 & A & 0.0378535 & 0.25986 \\\\\n",
       "\\end{tabular}\n"
      ],
      "text/plain": [
       "20×3 DataFrame\n",
       "│ Row │ Group  │ Variable1 │ Variable2 │\n",
       "│     │ \u001b[90mString\u001b[39m │ \u001b[90mFloat64\u001b[39m   │ \u001b[90mFloat64\u001b[39m   │\n",
       "├─────┼────────┼───────────┼───────────┤\n",
       "│ 1   │ B      │ 0.611511  │ 0.800083  │\n",
       "│ 2   │ B      │ -1.07624  │ 0.0963363 │\n",
       "│ 3   │ A      │ 0.724852  │ 0.960267  │\n",
       "│ 4   │ B      │ 0.37785   │ 0.655518  │\n",
       "│ 5   │ A      │ 0.689175  │ 0.509905  │\n",
       "│ 6   │ B      │ 0.294791  │ 0.893792  │\n",
       "│ 7   │ B      │ 0.0227738 │ 0.30634   │\n",
       "│ 8   │ B      │ 0.426896  │ 0.0818637 │\n",
       "│ 9   │ B      │ 0.136035  │ 0.796355  │\n",
       "│ 10  │ B      │ -1.16534  │ 0.461063  │\n",
       "│ 11  │ B      │ 0.618241  │ 0.701288  │\n",
       "│ 12  │ A      │ -0.630384 │ 0.412615  │\n",
       "│ 13  │ A      │ 0.989946  │ 0.139644  │\n",
       "│ 14  │ A      │ 1.15133   │ 0.152369  │\n",
       "│ 15  │ A      │ -0.873893 │ 0.790861  │\n",
       "│ 16  │ B      │ 0.877034  │ 0.654126  │\n",
       "│ 17  │ B      │ -1.47455  │ 0.897281  │\n",
       "│ 18  │ B      │ -0.266432 │ 0.818152  │\n",
       "│ 19  │ A      │ 0.653487  │ 0.264312  │\n",
       "│ 20  │ A      │ 0.0378535 │ 0.25986   │"
      ]
     },
     "execution_count": 24,
     "metadata": {},
     "output_type": "execute_result"
    }
   ],
   "source": [
    "using StatsBase\n",
    "using DataFrames\n",
    "DataFrame(Group=rand([\"A\", \"B\"], 20), Variable1=randn(20), Variable2=rand(20))\n",
    "\n"
   ]
  },
  {
   "cell_type": "code",
   "execution_count": 46,
   "metadata": {},
   "outputs": [
    {
     "data": {
      "text/plain": [
       "19-element Array{String,1}:\n",
       " \"A\"\n",
       " \"B\"\n",
       " \"A\"\n",
       " \"A\"\n",
       " \"B\"\n",
       " \"B\"\n",
       " \"A\"\n",
       " \"B\"\n",
       " \"B\"\n",
       " \"B\"\n",
       " \"A\"\n",
       " \"A\"\n",
       " \"B\"\n",
       " \"A\"\n",
       " \"A\"\n",
       " \"B\"\n",
       " \"B\"\n",
       " \"B\"\n",
       " \"B\""
      ]
     },
     "execution_count": 46,
     "metadata": {},
     "output_type": "execute_result"
    }
   ],
   "source": [
    "Group"
   ]
  },
  {
   "cell_type": "code",
   "execution_count": 69,
   "metadata": {},
   "outputs": [
    {
     "data": {
      "text/plain": [
       "Dict{String,Int64} with 2 entries:\n",
       "  \"B\" => 2\n",
       "  \"A\" => 200"
      ]
     },
     "execution_count": 69,
     "metadata": {},
     "output_type": "execute_result"
    }
   ],
   "source": [
    "AAA = Dict([(\"A\",200), (\"B\", 2)])"
   ]
  },
  {
   "cell_type": "code",
   "execution_count": 72,
   "metadata": {},
   "outputs": [
    {
     "data": {
      "text/plain": [
       "simple_addition (generic function with 1 method)"
      ]
     },
     "execution_count": 72,
     "metadata": {},
     "output_type": "execute_result"
    }
   ],
   "source": [
    "function simple_addition(x::Int64, y::Int64)\n",
    "  return x + y\n",
    "end\n"
   ]
  },
  {
   "cell_type": "code",
   "execution_count": null,
   "metadata": {},
   "outputs": [],
   "source": []
  },
  {
   "cell_type": "code",
   "execution_count": 76,
   "metadata": {},
   "outputs": [
    {
     "data": {
      "text/plain": [
       "0 + 8im"
      ]
     },
     "execution_count": 76,
     "metadata": {},
     "output_type": "execute_result"
    }
   ],
   "source": [
    "8im"
   ]
  },
  {
   "cell_type": "code",
   "execution_count": 74,
   "metadata": {},
   "outputs": [
    {
     "ename": "MethodError",
     "evalue": "MethodError: no method matching simple_addition(; x=5, y=5)\nClosest candidates are:\n  simple_addition(!Matched::Int64, !Matched::Int64) at In[72]:2 got unsupported keyword arguments \"x\", \"y\"",
     "output_type": "error",
     "traceback": [
      "MethodError: no method matching simple_addition(; x=5, y=5)\nClosest candidates are:\n  simple_addition(!Matched::Int64, !Matched::Int64) at In[72]:2 got unsupported keyword arguments \"x\", \"y\"",
      "",
      "Stacktrace:",
      " [1] top-level scope at In[74]:1"
     ]
    }
   ],
   "source": [
    "simple_addition(x=5,y=5)"
   ]
  }
 ],
 "metadata": {
  "kernelspec": {
   "display_name": "Julia 1.4.2",
   "language": "julia",
   "name": "julia-1.4"
  },
  "language_info": {
   "file_extension": ".jl",
   "mimetype": "application/julia",
   "name": "julia",
   "version": "1.4.2"
  }
 },
 "nbformat": 4,
 "nbformat_minor": 4
}
